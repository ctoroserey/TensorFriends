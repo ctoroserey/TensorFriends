{
 "cells": [
  {
   "cell_type": "code",
   "execution_count": null,
   "metadata": {},
   "outputs": [],
   "source": [
    "import numpy as np\n",
    "import pandas as pd\n",
    "from plotnine import *\n",
    "from plydata import *\n",
    "import matplotlib.pyplot as plt"
   ]
  },
  {
   "cell_type": "markdown",
   "metadata": {},
   "source": [
    "# The idea"
   ]
  },
  {
   "cell_type": "markdown",
   "metadata": {},
   "source": [
    "This little project will look into whether we can predict a movie's success based on its characteristics (like budget or director). For the sake of flexibility, there will be 2 determinants of success: IMDB score and gross revenue. \n",
    "\n",
    "To begin, I checked the available factors and overall dimensionality of the data."
   ]
  },
  {
   "cell_type": "code",
   "execution_count": null,
   "metadata": {},
   "outputs": [],
   "source": [
    "# Load data\n",
    "data = pd.read_csv('movies.csv', encoding='latin1')\n",
    "\n",
    "# Visualize the characteristics that are available\n",
    "list(data)"
   ]
  },
  {
   "cell_type": "code",
   "execution_count": null,
   "metadata": {},
   "outputs": [],
   "source": [
    "# Check the dimensionality\n",
    "data.shape"
   ]
  },
  {
   "cell_type": "markdown",
   "metadata": {},
   "source": [
    "# Cleaning up the data"
   ]
  },
  {
   "cell_type": "markdown",
   "metadata": {},
   "source": [
    "As it turns out, `year` and `released` contain similar information. Here I'm only interested in year, so I'll remove the `released` column. I'll also remove `name`, since its a unique identifier that won't provide any predictive info (unless I were to do a semantic analysis, but no...). It is also worth checking if country will be a useful predictor. If most movies come from the US, then there might not be enough variability in this feature to justify its inclusion."
   ]
  },
  {
   "cell_type": "code",
   "execution_count": null,
   "metadata": {},
   "outputs": [],
   "source": [
    "# Get the number of times each country appears\n",
    "countrydata = data.groupby('country').size().reset_index(name='count')\n",
    "\n",
    "\n",
    "# count the manufacturer and sort by the count \n",
    "c_categories = (data >> count('country', sort=True) >> pull('country'))\n",
    "\n",
    "df = data.copy()\n",
    "df['country'] = pd.Categorical(df['country'], categories=c_categories, ordered=True)\n",
    "\n",
    "# plot\n",
    "(ggplot(df) + \n",
    " aes(x='country') +\n",
    " geom_bar() + \n",
    " coord_flip() +\n",
    " theme_classic() +\n",
    " theme(axis_text_y=element_text(size=5))\n",
    ")"
   ]
  },
  {
   "cell_type": "markdown",
   "metadata": {},
   "source": [
    "The answer seems to be that country will be unhelpful, so I'll remove it too. (**NOTE: REMOVE GROSS. SCORE IS MORE LIKELY TO PREDICT GROSS, NOT THE OTHER WAY AROUND**)"
   ]
  },
  {
   "cell_type": "code",
   "execution_count": null,
   "metadata": {},
   "outputs": [],
   "source": [
    "# Remove the chosen columns\n",
    "data.drop(['released','name','country'], inplace=True, axis=1)"
   ]
  },
  {
   "cell_type": "markdown",
   "metadata": {},
   "source": [
    "Now that the features have been trimmed, here is a short set of descriptive stats for the numeric factors of the data. This is meant to give a broad overview of any interesting/doubtful elements."
   ]
  },
  {
   "cell_type": "code",
   "execution_count": null,
   "metadata": {},
   "outputs": [],
   "source": [
    "pd.DataFrame.describe(data)"
   ]
  },
  {
   "cell_type": "markdown",
   "metadata": {},
   "source": [
    "I'll pay no attenton to year for now, since it will be useful to keep it as a continuous numeric column for visualization purposes. At first sight, it's curious that the 25th percentile of budget amounts is 0. Since there are so many datapoints, I'll see how much we lose by removing movies with the impossible budget of 0 (at least impossible as far as I know)."
   ]
  },
  {
   "cell_type": "code",
   "execution_count": null,
   "metadata": {},
   "outputs": [],
   "source": [
    "# Remove the movies that have no budget \n",
    "data = data[data.budget != 0]\n",
    "\n",
    "# See what the new dimension is\n",
    "data.shape\n",
    "\n",
    "# Saving this for later\n",
    "# (ggplot(aes(x='budget'), data = data) +\n",
    "#  geom_histogram() +\n",
    "#  theme_classic()\n",
    "# )"
   ]
  },
  {
   "cell_type": "markdown",
   "metadata": {},
   "source": [
    "We removed ~2k values from that, but we're still left with a good number of samples. Now let's look at distributions. This is particularly important for two reasons: many analyses assume normally distributed data, but things like budget cannot have negative values, and monetary distributions tend to be Pareto or Poisson-like. \n",
    "\n",
    "I'll kill two birds with one stone by looking at distributions and correlations among all features. That way we can shave off heavily interdependent features."
   ]
  },
  {
   "cell_type": "code",
   "execution_count": null,
   "metadata": {},
   "outputs": [],
   "source": [
    "# Covariance matrix\n",
    "pd.plotting.scatter_matrix(data, figsize=(12,9), alpha = 0.5);"
   ]
  },
  {
   "cell_type": "markdown",
   "metadata": {},
   "source": [
    "The diagonals show that budget, gross earnings, and vote counts are not normally distributed (maybe runtime too, but it looks fair right now). Luckily they all have similar distributions, so I'll go ahead and normalize this data a bit by taking its natural log (a common technique when you're dealing with reaction time data)."
   ]
  },
  {
   "cell_type": "code",
   "execution_count": null,
   "metadata": {},
   "outputs": [],
   "source": [
    "# Get the log of these variables\n",
    "data[['budget','gross','votes']] = data[['budget','gross','votes']].transform(lambda x: np.log(x))\n",
    "\n",
    "# And let's take a second look at the distributions/correlations\n",
    "pd.plotting.scatter_matrix(data, figsize=(12,9), alpha = 0.3);"
   ]
  },
  {
   "cell_type": "markdown",
   "metadata": {},
   "source": [
    "That did the trick for the most part (eventually, adding a qnorm style plot would be useful). The plot shows a number of linear relationships, but since this is a toy example I will keep them. Trimming the features further might become more relevant later.\n",
    "\n",
    "Now we know what our features will be, so let's define that and the outcome clearly. Note that I'm removing `gross`, since it doesn't quite make sense to predict score from revenue (and gross will be the variable to be predicted later)."
   ]
  },
  {
   "cell_type": "code",
   "execution_count": null,
   "metadata": {},
   "outputs": [],
   "source": [
    "# Features and outcome variable\n",
    "features = data[['budget','runtime','votes','year']]\n",
    "score = data['score']"
   ]
  },
  {
   "cell_type": "markdown",
   "metadata": {},
   "source": [
    "# Let's predict stuff!"
   ]
  },
  {
   "cell_type": "markdown",
   "metadata": {},
   "source": [
    "First thing is to set aside training and testing subsamples. "
   ]
  },
  {
   "cell_type": "code",
   "execution_count": null,
   "metadata": {},
   "outputs": [],
   "source": [
    "# Select n random movies for testing\n",
    "n_test = 100\n",
    "test_data = features.sample(n=n_test)\n",
    "test_scores = score[test_data.index]\n",
    "train_data = features.loc[~features.index.isin(test_data.index)]\n",
    "train_scores = score[~score.index.isin(test_scores.index)]"
   ]
  },
  {
   "cell_type": "markdown",
   "metadata": {},
   "source": [
    "At this point the data are ready for a simple multiple regression, but for the sake of example we will nuke the problem with a neural net."
   ]
  },
  {
   "cell_type": "code",
   "execution_count": null,
   "metadata": {},
   "outputs": [],
   "source": []
  }
 ],
 "metadata": {
  "kernelspec": {
   "display_name": "Python 3",
   "language": "python",
   "name": "python3"
  },
  "language_info": {
   "codemirror_mode": {
    "name": "ipython",
    "version": 3
   },
   "file_extension": ".py",
   "mimetype": "text/x-python",
   "name": "python",
   "nbconvert_exporter": "python",
   "pygments_lexer": "ipython3",
   "version": "3.6.6"
  }
 },
 "nbformat": 4,
 "nbformat_minor": 2
}
